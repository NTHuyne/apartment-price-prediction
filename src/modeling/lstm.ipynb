{
 "cells": [
  {
   "cell_type": "code",
   "execution_count": 1,
   "metadata": {},
   "outputs": [],
   "source": [
    "import pandas as pd\n",
    "import joblib\n",
    "import pickle\n",
    "from sklearn.metrics import mean_absolute_error, mean_squared_error\n",
    "import numpy as np\n",
    "import json\n",
    "import os\n",
    "import matplotlib.pyplot as plt\n",
    "from keras.regularizers import l2"
   ]
  },
  {
   "cell_type": "code",
   "execution_count": 2,
   "metadata": {},
   "outputs": [],
   "source": [
    "from keras.layers import *\n",
    "from keras.models import *\n",
    "from keras.callbacks import EarlyStopping, ModelCheckpoint\n",
    "from scipy.sparse import csr_matrix\n",
    "from sklearn.preprocessing import MinMaxScaler"
   ]
  },
  {
   "cell_type": "code",
   "execution_count": 3,
   "metadata": {},
   "outputs": [],
   "source": [
    "X_train = pd.read_csv('C:\\\\Users\\\\THIS PC\\\\Desktop\\\\apartment-price-prediction\\\\data\\\\finalized\\\\X_train.csv')\n",
    "y_train = pd.read_csv('C:\\\\Users\\\\THIS PC\\\\Desktop\\\\apartment-price-prediction\\\\data\\\\finalized\\\\y_train.csv').values.ravel()"
   ]
  },
  {
   "cell_type": "code",
   "execution_count": 4,
   "metadata": {},
   "outputs": [],
   "source": [
    "preprocessor = joblib.load('C:\\\\Users\\\\THIS PC\\\\Desktop\\\\apartment-price-prediction\\\\model\\\\feature_engineering\\\\preprocessor.pkl')"
   ]
  },
  {
   "cell_type": "code",
   "execution_count": 5,
   "metadata": {},
   "outputs": [],
   "source": [
    "X_train_transformed = preprocessor.transform(X_train)"
   ]
  },
  {
   "cell_type": "code",
   "execution_count": 6,
   "metadata": {},
   "outputs": [
    {
     "name": "stdout",
     "output_type": "stream",
     "text": [
      "<class 'scipy.sparse._csr.csr_matrix'>\n"
     ]
    },
    {
     "data": {
      "text/plain": [
       "<12483x995 sparse matrix of type '<class 'numpy.float64'>'\n",
       "\twith 112347 stored elements in Compressed Sparse Row format>"
      ]
     },
     "execution_count": 6,
     "metadata": {},
     "output_type": "execute_result"
    }
   ],
   "source": [
    "print(type(X_train_transformed))\n",
    "X_train_transformed"
   ]
  },
  {
   "cell_type": "code",
   "execution_count": 7,
   "metadata": {},
   "outputs": [
    {
     "name": "stdout",
     "output_type": "stream",
     "text": [
      "(12483, 1, 995)\n"
     ]
    }
   ],
   "source": [
    "dense_matrix = X_train_transformed.toarray()  # Convert to dense\n",
    "\n",
    "# Step 2: Normalize the data\n",
    "\"\"\"scaler = MinMaxScaler()\n",
    "dense_matrix_scaled = scaler.fit_transform(dense_matrix)\"\"\"\n",
    "\n",
    "# Step 3: Reshape for LSTM\n",
    "timesteps = 1  # Define timesteps\n",
    "n_samples, n_features = dense_matrix.shape\n",
    "n_sequences = n_samples // timesteps  # Ensure divisible by timesteps\n",
    "\n",
    "# Reshape to (samples, timesteps, features)\n",
    "X_lstm = dense_matrix[:n_sequences * timesteps, :].reshape(n_sequences, timesteps, n_features)\n",
    "\n",
    "print(X_lstm.shape)"
   ]
  },
  {
   "cell_type": "code",
   "execution_count": 8,
   "metadata": {},
   "outputs": [],
   "source": [
    "X_test = pd.read_csv('C:\\\\Users\\\\THIS PC\\\\Desktop\\\\apartment-price-prediction\\\\data\\\\finalized\\\\X_test.csv')\n",
    "y_test = pd.read_csv('C:\\\\Users\\\\THIS PC\\\\Desktop\\\\apartment-price-prediction\\\\data\\\\finalized\\\\y_test.csv').values.ravel()"
   ]
  },
  {
   "cell_type": "code",
   "execution_count": 9,
   "metadata": {},
   "outputs": [],
   "source": [
    "X_test_transformed = preprocessor.transform(X_test)"
   ]
  },
  {
   "cell_type": "code",
   "execution_count": 10,
   "metadata": {},
   "outputs": [
    {
     "name": "stdout",
     "output_type": "stream",
     "text": [
      "(3121, 1, 995)\n"
     ]
    }
   ],
   "source": [
    "dense_matrix_test = X_test_transformed.toarray()  # Convert to dense\n",
    "\n",
    "# Step 2: Normalize the data\n",
    "\"\"\"scaler = MinMaxScaler()\n",
    "dense_matrix_scaled = scaler.fit_transform(dense_matrix)\"\"\"\n",
    "\n",
    "# Step 3: Reshape for LSTM\n",
    "timesteps = 1  # Define timesteps\n",
    "n_samples, n_features = dense_matrix_test.shape\n",
    "n_sequences = n_samples // timesteps  # Ensure divisible by timesteps\n",
    "\n",
    "# Reshape to (samples, timesteps, features)\n",
    "X_lstm_test = dense_matrix_test[:n_sequences * timesteps, :].reshape(n_sequences, timesteps, n_features)\n",
    "\n",
    "print(X_lstm_test.shape)"
   ]
  },
  {
   "cell_type": "code",
   "execution_count": 11,
   "metadata": {},
   "outputs": [
    {
     "name": "stdout",
     "output_type": "stream",
     "text": [
      "Model: \"sequential\"\n",
      "_________________________________________________________________\n",
      " Layer (type)                Output Shape              Param #   \n",
      "=================================================================\n",
      " lstm (LSTM)                 (None, 1, 128)            575488    \n",
      "                                                                 \n",
      " dropout (Dropout)           (None, 1, 128)            0         \n",
      "                                                                 \n",
      " lstm_1 (LSTM)               (None, 1, 64)             49408     \n",
      "                                                                 \n",
      " dropout_1 (Dropout)         (None, 1, 64)             0         \n",
      "                                                                 \n",
      " lstm_2 (LSTM)               (None, 1, 64)             33024     \n",
      "                                                                 \n",
      " dropout_2 (Dropout)         (None, 1, 64)             0         \n",
      "                                                                 \n",
      " lstm_3 (LSTM)               (None, 32)                12416     \n",
      "                                                                 \n",
      " dropout_3 (Dropout)         (None, 32)                0         \n",
      "                                                                 \n",
      " dense (Dense)               (None, 1)                 33        \n",
      "                                                                 \n",
      "=================================================================\n",
      "Total params: 670,369\n",
      "Trainable params: 670,369\n",
      "Non-trainable params: 0\n",
      "_________________________________________________________________\n"
     ]
    }
   ],
   "source": [
    "model = Sequential([\n",
    "    LSTM(128, activation='relu', input_shape=(X_lstm.shape[1], X_lstm.shape[2]), return_sequences=True),\n",
    "    Dropout(0.2),\n",
    "    LSTM(64, activation='relu', return_sequences=True), \n",
    "    Dropout(0.2),\n",
    "    LSTM(64, activation='relu', return_sequences=True), \n",
    "    Dropout(0.2),\n",
    "    LSTM(32, activation='relu'), \n",
    "    Dropout(0.2),\n",
    "    Dense(1)\n",
    "])\n",
    "\n",
    "model.summary()"
   ]
  },
  {
   "cell_type": "code",
   "execution_count": 12,
   "metadata": {},
   "outputs": [],
   "source": [
    "model.compile(optimizer='adam', loss='mae')"
   ]
  },
  {
   "cell_type": "code",
   "execution_count": 13,
   "metadata": {},
   "outputs": [],
   "source": [
    "model_path = \"C:\\\\Users\\\\THIS PC\\\\Desktop\\\\apartment-price-prediction\\\\model\\\\models\"\n",
    "early_stopping = EarlyStopping(monitor='val_loss', patience=12, verbose=1, restore_best_weights=True)"
   ]
  },
  {
   "cell_type": "code",
   "execution_count": 14,
   "metadata": {},
   "outputs": [
    {
     "name": "stdout",
     "output_type": "stream",
     "text": [
      "Epoch 1/200\n",
      "196/196 [==============================] - 14s 21ms/step - loss: 2.2482 - val_loss: 0.7388\n",
      "Epoch 2/200\n",
      "196/196 [==============================] - 3s 14ms/step - loss: 0.9730 - val_loss: 0.6871\n",
      "Epoch 3/200\n",
      "196/196 [==============================] - 3s 13ms/step - loss: 0.8497 - val_loss: 0.6133\n",
      "Epoch 4/200\n",
      "196/196 [==============================] - 3s 14ms/step - loss: 0.8213 - val_loss: 0.6013\n",
      "Epoch 5/200\n",
      "196/196 [==============================] - 3s 16ms/step - loss: 0.7783 - val_loss: 0.5852\n",
      "Epoch 6/200\n",
      "196/196 [==============================] - 3s 14ms/step - loss: 0.7691 - val_loss: 0.5820\n",
      "Epoch 7/200\n",
      "196/196 [==============================] - 2s 11ms/step - loss: 0.7375 - val_loss: 0.6115\n",
      "Epoch 8/200\n",
      "196/196 [==============================] - 2s 12ms/step - loss: 0.7323 - val_loss: 0.5918\n",
      "Epoch 9/200\n",
      "196/196 [==============================] - 3s 16ms/step - loss: 0.7074 - val_loss: 0.5591\n",
      "Epoch 10/200\n",
      "196/196 [==============================] - 3s 17ms/step - loss: 0.7006 - val_loss: 0.5577\n",
      "Epoch 11/200\n",
      "196/196 [==============================] - 3s 15ms/step - loss: 0.7001 - val_loss: 0.5456\n",
      "Epoch 12/200\n",
      "196/196 [==============================] - 3s 14ms/step - loss: 0.6893 - val_loss: 0.5425\n",
      "Epoch 13/200\n",
      "196/196 [==============================] - 3s 15ms/step - loss: 0.6689 - val_loss: 0.5754\n",
      "Epoch 14/200\n",
      "196/196 [==============================] - 5s 25ms/step - loss: 0.6579 - val_loss: 0.5384\n",
      "Epoch 15/200\n",
      "196/196 [==============================] - 5s 25ms/step - loss: 0.6523 - val_loss: 0.5678\n",
      "Epoch 16/200\n",
      "196/196 [==============================] - 5s 25ms/step - loss: 0.6543 - val_loss: 0.5319\n",
      "Epoch 17/200\n",
      "196/196 [==============================] - 5s 25ms/step - loss: 0.6334 - val_loss: 0.5473\n",
      "Epoch 18/200\n",
      "196/196 [==============================] - 5s 25ms/step - loss: 0.6278 - val_loss: 0.5474\n",
      "Epoch 19/200\n",
      "196/196 [==============================] - 5s 26ms/step - loss: 0.6201 - val_loss: 0.5303\n",
      "Epoch 20/200\n",
      "196/196 [==============================] - 5s 25ms/step - loss: 0.6209 - val_loss: 0.5433\n",
      "Epoch 21/200\n",
      "196/196 [==============================] - 5s 24ms/step - loss: 0.6046 - val_loss: 0.5277\n",
      "Epoch 22/200\n",
      "196/196 [==============================] - 3s 15ms/step - loss: 0.5967 - val_loss: 0.5506\n",
      "Epoch 23/200\n",
      "196/196 [==============================] - 3s 15ms/step - loss: 0.5994 - val_loss: 0.5303\n",
      "Epoch 24/200\n",
      "196/196 [==============================] - 2s 12ms/step - loss: 0.5864 - val_loss: 0.5652\n",
      "Epoch 25/200\n",
      "196/196 [==============================] - 2s 12ms/step - loss: 0.5827 - val_loss: 0.5428\n",
      "Epoch 26/200\n",
      "196/196 [==============================] - 2s 13ms/step - loss: 0.5807 - val_loss: 0.5237\n",
      "Epoch 27/200\n",
      "196/196 [==============================] - 3s 14ms/step - loss: 0.5738 - val_loss: 0.5175\n",
      "Epoch 28/200\n",
      "196/196 [==============================] - 2s 12ms/step - loss: 0.5649 - val_loss: 0.5248\n",
      "Epoch 29/200\n",
      "196/196 [==============================] - 3s 13ms/step - loss: 0.5567 - val_loss: 0.5248\n",
      "Epoch 30/200\n",
      "196/196 [==============================] - 2s 12ms/step - loss: 0.5599 - val_loss: 0.5333\n",
      "Epoch 31/200\n",
      "196/196 [==============================] - 3s 14ms/step - loss: 0.5459 - val_loss: 0.5175\n",
      "Epoch 32/200\n",
      "196/196 [==============================] - 2s 13ms/step - loss: 0.5436 - val_loss: 0.5312\n",
      "Epoch 33/200\n",
      "196/196 [==============================] - 3s 14ms/step - loss: 0.5362 - val_loss: 0.5366\n",
      "Epoch 34/200\n",
      "196/196 [==============================] - 3s 14ms/step - loss: 0.5428 - val_loss: 0.5179\n",
      "Epoch 35/200\n",
      "196/196 [==============================] - 3s 14ms/step - loss: 0.5278 - val_loss: 0.5188\n",
      "Epoch 36/200\n",
      "196/196 [==============================] - 3s 14ms/step - loss: 0.5301 - val_loss: 0.5147\n",
      "Epoch 37/200\n",
      "196/196 [==============================] - 3s 14ms/step - loss: 0.5259 - val_loss: 0.5141\n",
      "Epoch 38/200\n",
      "196/196 [==============================] - 3s 14ms/step - loss: 0.5181 - val_loss: 0.5272\n",
      "Epoch 39/200\n",
      "196/196 [==============================] - 3s 15ms/step - loss: 0.5159 - val_loss: 0.5140\n",
      "Epoch 40/200\n",
      "196/196 [==============================] - 3s 14ms/step - loss: 0.5169 - val_loss: 0.5244\n",
      "Epoch 41/200\n",
      "196/196 [==============================] - 3s 16ms/step - loss: 0.5089 - val_loss: 0.5444\n",
      "Epoch 42/200\n",
      "196/196 [==============================] - 3s 15ms/step - loss: 0.5062 - val_loss: 0.5144\n",
      "Epoch 43/200\n",
      "196/196 [==============================] - 3s 15ms/step - loss: 0.5045 - val_loss: 0.5185\n",
      "Epoch 44/200\n",
      "196/196 [==============================] - 3s 13ms/step - loss: 0.5002 - val_loss: 0.5134\n",
      "Epoch 45/200\n",
      "196/196 [==============================] - 3s 13ms/step - loss: 0.4975 - val_loss: 0.5352\n",
      "Epoch 46/200\n",
      "196/196 [==============================] - 3s 17ms/step - loss: 0.4942 - val_loss: 0.5168\n",
      "Epoch 47/200\n",
      "196/196 [==============================] - 5s 26ms/step - loss: 0.4905 - val_loss: 0.5171\n",
      "Epoch 48/200\n",
      "196/196 [==============================] - 5s 26ms/step - loss: 0.4856 - val_loss: 0.5173\n",
      "Epoch 49/200\n",
      "196/196 [==============================] - 5s 24ms/step - loss: 0.4848 - val_loss: 0.5130\n",
      "Epoch 50/200\n",
      "196/196 [==============================] - 3s 17ms/step - loss: 0.4844 - val_loss: 0.5146\n",
      "Epoch 51/200\n",
      "196/196 [==============================] - 3s 14ms/step - loss: 0.4837 - val_loss: 0.5131\n",
      "Epoch 52/200\n",
      "196/196 [==============================] - 4s 20ms/step - loss: 0.4771 - val_loss: 0.5096\n",
      "Epoch 53/200\n",
      "196/196 [==============================] - 5s 25ms/step - loss: 0.4795 - val_loss: 0.5193\n",
      "Epoch 54/200\n",
      "196/196 [==============================] - 5s 24ms/step - loss: 0.4707 - val_loss: 0.5094\n",
      "Epoch 55/200\n",
      "196/196 [==============================] - 5s 24ms/step - loss: 0.4704 - val_loss: 0.5087\n",
      "Epoch 56/200\n",
      "196/196 [==============================] - 5s 25ms/step - loss: 0.4738 - val_loss: 0.5192\n",
      "Epoch 57/200\n",
      "196/196 [==============================] - 5s 24ms/step - loss: 0.4676 - val_loss: 0.5120\n",
      "Epoch 58/200\n",
      "196/196 [==============================] - 5s 25ms/step - loss: 0.4649 - val_loss: 0.5229\n",
      "Epoch 59/200\n",
      "196/196 [==============================] - 5s 25ms/step - loss: 0.4651 - val_loss: 0.5120\n",
      "Epoch 60/200\n",
      "196/196 [==============================] - 5s 24ms/step - loss: 0.4693 - val_loss: 0.5163\n",
      "Epoch 61/200\n",
      "196/196 [==============================] - 5s 24ms/step - loss: 0.4555 - val_loss: 0.5135\n",
      "Epoch 62/200\n",
      "196/196 [==============================] - 5s 24ms/step - loss: 0.4592 - val_loss: 0.5147\n",
      "Epoch 63/200\n",
      "196/196 [==============================] - 5s 24ms/step - loss: 0.4568 - val_loss: 0.5170\n",
      "Epoch 64/200\n",
      "196/196 [==============================] - 5s 24ms/step - loss: 0.4518 - val_loss: 0.5112\n",
      "Epoch 65/200\n",
      "196/196 [==============================] - 5s 24ms/step - loss: 0.4530 - val_loss: 0.5164\n",
      "Epoch 66/200\n",
      "196/196 [==============================] - 3s 17ms/step - loss: 0.4517 - val_loss: 0.5165\n",
      "Epoch 67/200\n",
      "193/196 [============================>.] - ETA: 0s - loss: 0.4464Restoring model weights from the end of the best epoch: 55.\n",
      "196/196 [==============================] - 3s 13ms/step - loss: 0.4468 - val_loss: 0.5128\n",
      "Epoch 67: early stopping\n"
     ]
    }
   ],
   "source": [
    "history = model.fit(X_lstm, y_train, validation_data=(X_lstm_test, y_test), epochs=200, batch_size=64, callbacks=[early_stopping], )"
   ]
  },
  {
   "cell_type": "code",
   "execution_count": 15,
   "metadata": {},
   "outputs": [
    {
     "name": "stdout",
     "output_type": "stream",
     "text": [
      "391/391 [==============================] - 3s 5ms/step\n"
     ]
    }
   ],
   "source": [
    "y_pred_train = model.predict(X_lstm)"
   ]
  },
  {
   "cell_type": "code",
   "execution_count": 16,
   "metadata": {},
   "outputs": [],
   "source": [
    "mae = mean_absolute_error(y_train, y_pred_train)\n",
    "rmse = np.sqrt(mean_squared_error(y_train, y_pred_train))"
   ]
  },
  {
   "cell_type": "code",
   "execution_count": 17,
   "metadata": {},
   "outputs": [
    {
     "name": "stdout",
     "output_type": "stream",
     "text": [
      "test:  0.3689486861593743 0.5646038317384511\n"
     ]
    }
   ],
   "source": [
    "print(\"test: \", mae, rmse)"
   ]
  },
  {
   "cell_type": "code",
   "execution_count": 18,
   "metadata": {},
   "outputs": [
    {
     "name": "stdout",
     "output_type": "stream",
     "text": [
      "98/98 [==============================] - 1s 5ms/step\n"
     ]
    }
   ],
   "source": [
    "y_pred_test = model.predict(X_lstm_test)"
   ]
  },
  {
   "cell_type": "code",
   "execution_count": 19,
   "metadata": {},
   "outputs": [
    {
     "name": "stdout",
     "output_type": "stream",
     "text": [
      "test:  0.5086971067977387 0.7352071610697392\n"
     ]
    }
   ],
   "source": [
    "mae = mean_absolute_error(y_test, y_pred_test)\n",
    "rmse = np.sqrt(mean_squared_error(y_test, y_pred_test))\n",
    "print(\"test: \", mae, rmse)"
   ]
  },
  {
   "cell_type": "code",
   "execution_count": 20,
   "metadata": {},
   "outputs": [
    {
     "data": {
      "image/png": "[encoded data removed]",
      "text/plain": [
       "<Figure size 1000x600 with 1 Axes>"
      ]
     },
     "metadata": {},
     "output_type": "display_data"
    }
   ],
   "source": [
    "plt.figure(figsize=(10, 6))\n",
    "plt.plot(history.history['loss'], label='Train Loss', color='blue')\n",
    "plt.plot(history.history['val_loss'], label='Validation Loss', color='orange')\n",
    "plt.title('Training and Validation Loss')\n",
    "plt.xlabel('Epochs')\n",
    "plt.ylabel('Loss')\n",
    "plt.legend()\n",
    "plt.grid()\n",
    "plt.show()"
   ]
  },
  {
   "cell_type": "code",
   "execution_count": 21,
   "metadata": {},
   "outputs": [],
   "source": [
    "model.save(os.path.join(model_path,'lstm_apartment_model.h5'))"
   ]
  },
  {
   "cell_type": "code",
   "execution_count": null,
   "metadata": {},
   "outputs": [],
   "source": []
  }
 ],
 "metadata": {
  "kernelspec": {
   "display_name": "Python 3",
   "language": "python",
   "name": "python3"
  },
  "language_info": {
   "codemirror_mode": {
    "name": "ipython",
    "version": 3
   },
   "file_extension": ".py",
   "mimetype": "text/x-python",
   "name": "python",
   "nbconvert_exporter": "python",
   "pygments_lexer": "ipython3",
   "version": "3.10.1"
  }
 },
 "nbformat": 4,
 "nbformat_minor": 2
}
